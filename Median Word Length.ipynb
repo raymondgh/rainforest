{
 "cells": [
  {
   "cell_type": "code",
   "execution_count": 1,
   "metadata": {
    "collapsed": true
   },
   "outputs": [],
   "source": [
    "import requests\n",
    "import justext\n",
    "import numpy as np"
   ]
  },
  {
   "cell_type": "markdown",
   "metadata": {},
   "source": [
    "## Downloaded Description"
   ]
  },
  {
   "cell_type": "code",
   "execution_count": 2,
   "metadata": {},
   "outputs": [],
   "source": [
    "response = requests.get(\"https://jobs.lever.co/rainforest/e7eab367-cae8-4e7b-8642-e7b66c4c00bb\", data=0)"
   ]
  },
  {
   "cell_type": "code",
   "execution_count": 3,
   "metadata": {},
   "outputs": [],
   "source": [
    "paragraphs = [p.text for p in justext.justext(response.content, justext.get_stoplist(\"English\"))]"
   ]
  },
  {
   "cell_type": "code",
   "execution_count": 4,
   "metadata": {},
   "outputs": [],
   "source": [
    "fulltext = \" \".join(paragraphs)"
   ]
  },
  {
   "cell_type": "code",
   "execution_count": 5,
   "metadata": {},
   "outputs": [],
   "source": [
    "words = fulltext.split(\" \")"
   ]
  },
  {
   "cell_type": "code",
   "execution_count": 6,
   "metadata": {},
   "outputs": [],
   "source": [
    "wordLengths = [len(word) for word in words]"
   ]
  },
  {
   "cell_type": "code",
   "execution_count": 7,
   "metadata": {},
   "outputs": [
    {
     "data": {
      "text/plain": [
       "4.0"
      ]
     },
     "execution_count": 7,
     "metadata": {},
     "output_type": "execute_result"
    }
   ],
   "source": [
    "np.median(wordLengths)"
   ]
  },
  {
   "cell_type": "markdown",
   "metadata": {
    "collapsed": true
   },
   "source": [
    "## Copy Pasted Description"
   ]
  },
  {
   "cell_type": "code",
   "execution_count": 8,
   "metadata": {},
   "outputs": [],
   "source": [
    "text = \"We're looking for a Data Scientist/Machine Learning Engineer with a wide range of competencies. Rainforest is changing the way people do QA and data is at the heart of how we do that. From crowd management and fraud detection to data visualization and automation research, there are myriad opportunities to use your creativity and technical skills. We are looking for someone who learns quickly and is a great communicator. Since we are a remote, distributed development team, decent writing skills and(over)communication is important to us. You can be based anywhere in the world (including San Francisco, where our HQ is located).We regularly send our data scientists to conferences, both to speak and just learn (e.g. last year we went to NIPS and KDD, this year to Europython and a couple of PyDatas). You can read about some of our work on predicting test run durations and how Kaggle can be useful in the real world.Read more about the team and culture at Rainforest QA hereWhat you’ll doExperiment with the latest algorithms in computer vision, reinforcement learning and various supervised learning problemsDesign, develop, and own ML products from brainstorming to speccing, implementation and maintenanceResearch visual understanding of images, including classification, semantic segmentation, and OCR.  Develop new computer-vision based products with humans-in-the-loopShip improvements to existing products daily (we practice fast iterations and CI)Work on fraud detection in crowdsourcing tasksDive into our tester management algorithms and look for ways you can improve themExperiment with NLP to interpret our natural-language test casesDevelop a deep understanding of Rainforest products and empathy for our customersUse your SQL and visualization skills to analyze and answer questions about our product and the way people use itWhat we’re looking forKnowledge of common data science concepts: different kinds of learning algorithms, ability to validate assumptions in a principled way and to discover correlations and to come up with a defensible experimental design to validate a hypothesisKnowledge of Python including the scientific stack (numpy, scipy, matplotlib, pandas, scikit-learn etc.).TensorFlow/Keras (though if you're already playing with PyTorch we'd gladly learn from you instead!)Enough SQL to efficiently get the data you need from a relational DBBasic knowledge of how the web works: HTTP, web servers, databases. Ability to build a simple CRUD app.Comfort in using the Unix command line and gitCuriosity and motivation to think outside the box. When a colleague asks a data-related question, you're the type to try and understand what their underlying problem is and come up with a suitable solution (whether or not it can be solved with data).Someone who stays up-to-date with the latest research in ML/AI, can chat about what they think the next breakthrough will be, and can point to a recent paper that they enjoyed readingBonus Points For:First-hand experience with designing, building and shipping Deep Learning-based models to productionHow we’ll reward you (SF)Competitive compensation and stock options100% Medical, dental, and vision insurance covered (75% for dependents)Daily catered lunch and snacksSubsidized commuter benefitsVoluntary 401 k programGenerous vacation timeProfessional development, in-office career coaching, and conference attendanceDog friendly officesWeekly team activities like happy hours, in-office yoga, and much moreHow we’ll reward you (Remote)Flexible, remote work optionsGenerous vacation timeCompetitive compensation and stock optionsVoluntary 401 k program (US only)100% Medical, dental, and vision insurance covered (US only, 75% for dependents)Professional development, career coaching, and conference attendance3x per year onsites- we’ll fly you into our beautiful San Francisco office to spend quality time with your teammates!OUR COMMITMENT TO DIVERSITY AND INCLUSIONAt Rainforest QA we believe that diverse teams improve our business. We are an equal opportunity employer and do not discriminate on the basis of race, religion, color, nationality, gender, sexual orientation, age, marital status, veteran status, or disability status.\""
   ]
  },
  {
   "cell_type": "code",
   "execution_count": 9,
   "metadata": {},
   "outputs": [],
   "source": [
    "lengths = [len(word) for word in text.split(\" \")]"
   ]
  },
  {
   "cell_type": "code",
   "execution_count": 10,
   "metadata": {},
   "outputs": [
    {
     "data": {
      "text/plain": [
       "5.0"
      ]
     },
     "execution_count": 10,
     "metadata": {},
     "output_type": "execute_result"
    }
   ],
   "source": [
    "np.median(lengths)"
   ]
  },
  {
   "cell_type": "code",
   "execution_count": null,
   "metadata": {
    "collapsed": true
   },
   "outputs": [],
   "source": []
  }
 ],
 "metadata": {
  "kernelspec": {
   "display_name": "Python 3",
   "language": "python",
   "name": "python3"
  },
  "language_info": {
   "codemirror_mode": {
    "name": "ipython",
    "version": 3
   },
   "file_extension": ".py",
   "mimetype": "text/x-python",
   "name": "python",
   "nbconvert_exporter": "python",
   "pygments_lexer": "ipython3",
   "version": "3.6.3"
  }
 },
 "nbformat": 4,
 "nbformat_minor": 2
}
